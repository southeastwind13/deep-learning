{
  "nbformat": 4,
  "nbformat_minor": 0,
  "metadata": {
    "colab": {
      "provenance": [],
      "authorship_tag": "ABX9TyMeKAyBUlyJormFwSz+6XYs",
      "include_colab_link": true
    },
    "kernelspec": {
      "name": "python3",
      "display_name": "Python 3"
    },
    "language_info": {
      "name": "python"
    }
  },
  "cells": [
    {
      "cell_type": "markdown",
      "metadata": {
        "id": "view-in-github",
        "colab_type": "text"
      },
      "source": [
        "<a href=\"https://colab.research.google.com/github/southeastwind13/deep-learning/blob/main/LoadDataToColab.ipynb\" target=\"_parent\"><img src=\"https://colab.research.google.com/assets/colab-badge.svg\" alt=\"Open In Colab\"/></a>"
      ]
    },
    {
      "cell_type": "markdown",
      "source": [
        "# Import data to colab"
      ],
      "metadata": {
        "id": "mKN7arrh3oYw"
      }
    },
    {
      "cell_type": "markdown",
      "source": [
        "We have many ways to import data into the colab environment."
      ],
      "metadata": {
        "id": "lK-DnSEA3yF2"
      }
    },
    {
      "cell_type": "markdown",
      "source": [
        "### 1. Wget\n",
        "we can use Wget to import data from a URL.\n",
        "\n",
        "example: !wget www.example.com/data"
      ],
      "metadata": {
        "id": "-1q5gmm-38tn"
      }
    },
    {
      "cell_type": "code",
      "execution_count": 1,
      "metadata": {
        "colab": {
          "base_uri": "https://localhost:8080/"
        },
        "id": "bI6QDN6b3ZRa",
        "outputId": "266856dc-a7a8-4f28-d020-06989b424f37"
      },
      "outputs": [
        {
          "output_type": "stream",
          "name": "stdout",
          "text": [
            "--2023-09-24 20:29:18--  https://lazyprogrammer.me/course_files/arrhythmia.data\n",
            "Resolving lazyprogrammer.me (lazyprogrammer.me)... 104.21.23.210, 172.67.213.166, 2606:4700:3031::6815:17d2, ...\n",
            "Connecting to lazyprogrammer.me (lazyprogrammer.me)|104.21.23.210|:443... connected.\n",
            "HTTP request sent, awaiting response... 200 OK\n",
            "Length: 402355 (393K) [application/octet-stream]\n",
            "Saving to: ‘arrhythmia.data’\n",
            "\n",
            "arrhythmia.data     100%[===================>] 392.92K  1.25MB/s    in 0.3s    \n",
            "\n",
            "2023-09-24 20:29:19 (1.25 MB/s) - ‘arrhythmia.data’ saved [402355/402355]\n",
            "\n"
          ]
        }
      ],
      "source": [
        "!wget 'https://lazyprogrammer.me/course_files/arrhythmia.data'"
      ]
    },
    {
      "cell_type": "code",
      "source": [
        "# list file in the current directory\n",
        "!ls"
      ],
      "metadata": {
        "colab": {
          "base_uri": "https://localhost:8080/"
        },
        "id": "kTvvw75P3tu6",
        "outputId": "25498543-f2eb-4698-8778-5096b60f48aa"
      },
      "execution_count": 2,
      "outputs": [
        {
          "output_type": "stream",
          "name": "stdout",
          "text": [
            "arrhythmia.data  sample_data\n"
          ]
        }
      ]
    }
  ]
}