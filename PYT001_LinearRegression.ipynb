{
  "cells": [
    {
      "cell_type": "markdown",
      "metadata": {
        "id": "view-in-github",
        "colab_type": "text"
      },
      "source": [
        "<a href=\"https://colab.research.google.com/github/southeastwind13/deep-learning/blob/main/PYT001_LinearRegression.ipynb\" target=\"_parent\"><img src=\"https://colab.research.google.com/assets/colab-badge.svg\" alt=\"Open In Colab\"/></a>"
      ]
    },
    {
      "cell_type": "code",
      "execution_count": 1,
      "metadata": {
        "id": "sF_mSIR3-ge2"
      },
      "outputs": [],
      "source": [
        "import torch\n",
        "import torch.nn as nn\n",
        "import numpy as np\n",
        "import matplotlib.pyplot as plt"
      ]
    },
    {
      "cell_type": "code",
      "execution_count": 2,
      "metadata": {
        "id": "nnQbRCWb-yMo"
      },
      "outputs": [],
      "source": [
        "# Generate 20 data points\n",
        "N = 20\n",
        "\n",
        "# random data on the x-axos in (-5, 5)\n",
        "X = np.random.random(N)*10 - 5\n",
        "\n",
        "# a lin plus some noise\n",
        "Y = 0.5 * X - 1 + np.random.randn(N) # Add Gussien noise\n",
        "\n",
        "#!\n",
        "# Guassian noise have mean be zero.\n",
        "# The MSE is good loss function for the data with Gussien noise"
      ]
    },
    {
      "cell_type": "code",
      "execution_count": 3,
      "metadata": {
        "id": "N4b-dmeZ_SCf",
        "colab": {
          "base_uri": "https://localhost:8080/",
          "height": 448
        },
        "outputId": "a7493847-b941-4f70-bbb0-df9b2cdca456"
      },
      "outputs": [
        {
          "output_type": "execute_result",
          "data": {
            "text/plain": [
              "<matplotlib.collections.PathCollection at 0x78cb4b791900>"
            ]
          },
          "metadata": {},
          "execution_count": 3
        },
        {
          "output_type": "display_data",
          "data": {
            "text/plain": [
              "<Figure size 640x480 with 1 Axes>"
            ],
            "image/png": "[encoded data removed]"
          },
          "metadata": {}
        }
      ],
      "source": [
        "# Plot the data\n",
        "\n",
        "plt.scatter(X, Y)"
      ]
    },
    {
      "cell_type": "code",
      "source": [
        "# Create model\n",
        "model = nn.Linear(1, 1)"
      ],
      "metadata": {
        "id": "EXX4WclEoTmy"
      },
      "execution_count": 4,
      "outputs": []
    },
    {
      "cell_type": "code",
      "source": [
        "# Loss and optimizer\n",
        "criterion = nn.MSELoss()\n",
        "optimizer = torch.optim.SGD(model.parameters(), lr=0.1)"
      ],
      "metadata": {
        "id": "12MBtXj1oxtY"
      },
      "execution_count": 5,
      "outputs": []
    },
    {
      "cell_type": "code",
      "source": [
        "# Convert data from Array to Tensor\n",
        "\n",
        "X = X.reshape(N, 1)\n",
        "Y = Y.reshape(N, 1)\n",
        "\n",
        "inputs = torch.from_numpy(X.astype(np.float32))\n",
        "targets = torch.from_numpy(Y.astype(np.float32))\n",
        "\n",
        "#! Remark\n",
        "# PyTorch uses float32 by default\n",
        "# Numpy uses float64 by default"
      ],
      "metadata": {
        "id": "rINoFGNHpCuW"
      },
      "execution_count": 6,
      "outputs": []
    },
    {
      "cell_type": "code",
      "source": [
        "type(inputs)"
      ],
      "metadata": {
        "colab": {
          "base_uri": "https://localhost:8080/"
        },
        "id": "yiKgUFK2phn7",
        "outputId": "e1fe637a-0965-4861-f0dd-a79605f92956"
      },
      "execution_count": 7,
      "outputs": [
        {
          "output_type": "execute_result",
          "data": {
            "text/plain": [
              "torch.Tensor"
            ]
          },
          "metadata": {},
          "execution_count": 7
        }
      ]
    },
    {
      "cell_type": "code",
      "source": [
        "# Train the model\n",
        "\n",
        "n_epochs = 30\n",
        "losses = []\n",
        "\n",
        "for iteration in range(n_epochs):\n",
        "  # zero the parameter gradients\n",
        "  optimizer.zero_grad()\n",
        "\n",
        "  # Forward pass\n",
        "  outputs = model(inputs)\n",
        "  loss = criterion(outputs, targets)\n",
        "\n",
        "  # keep the loss so we can plot it later\n",
        "  losses.append(loss.item())\n",
        "\n",
        "  # Backward and optimize\n",
        "  loss.backward()\n",
        "  optimizer.step()\n",
        "\n",
        "  print(f'Epoch {iteration+1}/{n_epochs}, Loss: {loss.item():.4f}')\n"
      ],
      "metadata": {
        "colab": {
          "base_uri": "https://localhost:8080/"
        },
        "id": "XgkPplXEp7I4",
        "outputId": "2ed7d825-8f1c-4bdf-ca66-74f1c5560dfc"
      },
      "execution_count": 8,
      "outputs": [
        {
          "output_type": "stream",
          "name": "stdout",
          "text": [
            "Epoch 1/30, Loss: 6.7338\n",
            "Epoch 2/30, Loss: 1.4039\n",
            "Epoch 3/30, Loss: 0.9785\n",
            "Epoch 4/30, Loss: 0.9092\n",
            "Epoch 5/30, Loss: 0.8786\n",
            "Epoch 6/30, Loss: 0.8600\n",
            "Epoch 7/30, Loss: 0.8481\n",
            "Epoch 8/30, Loss: 0.8405\n",
            "Epoch 9/30, Loss: 0.8357\n",
            "Epoch 10/30, Loss: 0.8326\n",
            "Epoch 11/30, Loss: 0.8306\n",
            "Epoch 12/30, Loss: 0.8293\n",
            "Epoch 13/30, Loss: 0.8285\n",
            "Epoch 14/30, Loss: 0.8280\n",
            "Epoch 15/30, Loss: 0.8276\n",
            "Epoch 16/30, Loss: 0.8274\n",
            "Epoch 17/30, Loss: 0.8273\n",
            "Epoch 18/30, Loss: 0.8272\n",
            "Epoch 19/30, Loss: 0.8271\n",
            "Epoch 20/30, Loss: 0.8271\n",
            "Epoch 21/30, Loss: 0.8271\n",
            "Epoch 22/30, Loss: 0.8271\n",
            "Epoch 23/30, Loss: 0.8271\n",
            "Epoch 24/30, Loss: 0.8271\n",
            "Epoch 25/30, Loss: 0.8270\n",
            "Epoch 26/30, Loss: 0.8270\n",
            "Epoch 27/30, Loss: 0.8270\n",
            "Epoch 28/30, Loss: 0.8270\n",
            "Epoch 29/30, Loss: 0.8270\n",
            "Epoch 30/30, Loss: 0.8270\n"
          ]
        }
      ]
    },
    {
      "cell_type": "code",
      "source": [
        "#! Convert Tensor to Python variable\n",
        "# Single value  => Tensor.item()\n",
        "# Array         => Tensor.numpy()"
      ],
      "metadata": {
        "colab": {
          "base_uri": "https://localhost:8080/"
        },
        "id": "dMUC7Q1Cv59g",
        "outputId": "02a4721b-d29e-49a2-adfa-c4db50273f81"
      },
      "execution_count": 10,
      "outputs": [
        {
          "output_type": "execute_result",
          "data": {
            "text/plain": [
              "torch.Tensor"
            ]
          },
          "metadata": {},
          "execution_count": 10
        }
      ]
    },
    {
      "cell_type": "code",
      "source": [
        "# Plot the loss per iteration\n",
        "plt.plot(losses)"
      ],
      "metadata": {
        "colab": {
          "base_uri": "https://localhost:8080/",
          "height": 452
        },
        "id": "vTRTVllIwC3E",
        "outputId": "c3d38c53-e607-4438-8bcd-78fdce31e19f"
      },
      "execution_count": 11,
      "outputs": [
        {
          "output_type": "execute_result",
          "data": {
            "text/plain": [
              "[<matplotlib.lines.Line2D at 0x78cb49668c40>]"
            ]
          },
          "metadata": {},
          "execution_count": 11
        },
        {
          "output_type": "display_data",
          "data": {
            "text/plain": [
              "<Figure size 640x480 with 1 Axes>"
            ],
            "image/png": "[encoded data removed]"
          },
          "metadata": {}
        }
      ]
    },
    {
      "cell_type": "code",
      "source": [
        "# Plot the graph\n",
        "predicted = model(inputs).detach().numpy()\n",
        "plt.scatter(X, Y, label='Original data')\n",
        "plt.plot(X, predicted, label='Fitted line')\n",
        "plt.legend()\n",
        "plt.show()"
      ],
      "metadata": {
        "colab": {
          "base_uri": "https://localhost:8080/",
          "height": 430
        },
        "id": "-8Fpsx5IwZGY",
        "outputId": "c2121702-7473-42c9-cb9e-91c8e20e7628"
      },
      "execution_count": 12,
      "outputs": [
        {
          "output_type": "display_data",
          "data": {
            "text/plain": [
              "<Figure size 640x480 with 1 Axes>"
            ],
            "image/png": "[encoded data removed]"
          },
          "metadata": {}
        }
      ]
    },
    {
      "cell_type": "code",
      "source": [
        "# Detach\n",
        "# If we would like to use data from gradient we need to do the detach first.\n",
        "# Tensor.detach().numpy()\n"
      ],
      "metadata": {
        "id": "ZEdt-vyExMhZ"
      },
      "execution_count": null,
      "outputs": []
    },
    {
      "cell_type": "code",
      "source": [
        "w = model.weight.data.numpy()\n",
        "b = model.bias.data.numpy()\n",
        "print(w, b)"
      ],
      "metadata": {
        "colab": {
          "base_uri": "https://localhost:8080/"
        },
        "id": "PY98Bu8Ux1qQ",
        "outputId": "fe463aad-4a64-4336-c3e3-4a6242e395b4"
      },
      "execution_count": 13,
      "outputs": [
        {
          "output_type": "stream",
          "name": "stdout",
          "text": [
            "[[0.50111955]] [-1.0563111]\n"
          ]
        }
      ]
    }
  ],
  "metadata": {
    "colab": {
      "provenance": [],
      "authorship_tag": "ABX9TyNNCQnpKmMPaHx/O+6PjR2t",
      "include_colab_link": true
    },
    "kernelspec": {
      "display_name": "Python 3",
      "name": "python3"
    },
    "language_info": {
      "name": "python"
    },
    "accelerator": "TPU"
  },
  "nbformat": 4,
  "nbformat_minor": 0
}